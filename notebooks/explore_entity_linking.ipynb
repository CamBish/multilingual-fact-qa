{
 "cells": [
  {
   "cell_type": "code",
   "execution_count": null,
   "metadata": {
    "vscode": {
     "languageId": "plaintext"
    }
   },
   "outputs": [],
   "source": [
    "from modelscope.hub.snapshot_download import snapshot_download\n",
    "\n",
    "# load model (only done first time)\n",
    "model_dir = snapshot_download('iic/nlp_raner_named-entity-recognition_chinese-base-generic', cache_dir='/scratch/ssd004/scratch/cambish/CNER')"
   ]
  },
  {
   "cell_type": "code",
   "execution_count": null,
   "metadata": {
    "vscode": {
     "languageId": "plaintext"
    }
   },
   "outputs": [],
   "source": [
    "from modelscope.pipelines import pipeline\n",
    "from modelscope.utils.constant import Tasks\n",
    "from modelscope.models import Model\n",
    "\n",
    "ner_model = Model.from_pretrained(model_dir)\n",
    "ner_pipeline = pipeline(Tasks.named_entity_recognition, model=ner_model)\n",
    "\n",
    "# test sample\n",
    "ner_input = ['尼克松在回顾1972年访华时说：“我知道，1954年在……时福斯特·杜勒斯（当时的美国国务卿）拒绝同周（周恩来）握手，使他身受侮辱。因此我走完梯级时决心伸出我的手，一边向他走去。当我们的手相握的时候，一个时代结束了，另一个时代开始了。”对上述材料理解正确的是',\n",
    "            '尼克松与周恩来握手意味着美国彻底放弃了遏制中国政策', '尼克松否定了福斯特·杜勒斯的对华态度', '中美关系对20世纪70年代的国际关系有重要影响', '省略部分应是万隆会议']\n",
    "outputs = ner_pipeline(ner_input)\n",
    "print(outputs)"
   ]
  },
  {
   "cell_type": "code",
   "execution_count": null,
   "metadata": {
    "vscode": {
     "languageId": "plaintext"
    }
   },
   "outputs": [],
   "source": [
    "for output in outputs:\n",
    "    print(output['output'])"
   ]
  },
  {
   "cell_type": "code",
   "execution_count": null,
   "metadata": {
    "vscode": {
     "languageId": "plaintext"
    }
   },
   "outputs": [],
   "source": [
    "import spacy\n",
    "from spacy.tokens import DocBin\n",
    "from spacy import displacy\n",
    "\n",
    "nlp = spacy.blank(\"zh\")\n",
    "\n",
    "# docs list will store annotations\n",
    "docs = []\n",
    "for text, annotations in zip(ner_input, outputs):\n",
    "    doc = nlp(text)\n",
    "    ents = []\n",
    "    # required to convert annotations dict of lists into annotation dict\n",
    "    for annotation in annotations['output']:\n",
    "        span = doc.char_span(annotation['start'], annotation['end'], label=annotation['type'])\n",
    "        ents.append(span)\n",
    "    doc.ents = ents\n",
    "    docs.append(doc)\n",
    "\n",
    "displacy.render(docs, style=\"ent\")"
   ]
  }
 ],
 "metadata": {
  "language_info": {
   "name": "python"
  }
 },
 "nbformat": 4,
 "nbformat_minor": 2
}
