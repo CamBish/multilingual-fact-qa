{
 "cells": [
  {
   "cell_type": "code",
   "execution_count": 1,
   "metadata": {},
   "outputs": [],
   "source": [
    "import os\n",
    "from enum import Enum\n",
    "import pandas as pd\n",
    "import wikipediaapi as wk\n",
    "\n",
    "\n",
    "# tydi_path = os.path('datasets/', 'Tydiqa v1.0 dev.jsonl')\n",
    "\n",
    "tydi_json = pd.read_json('datasets/Tydiqa v1.0 dev.jsonl', lines=True)\n",
    "tydi_goldp_json = pd.read_json('datasets/tydiqa-goldp-v1.1-dev.json')\n",
    "\n"
   ]
  },
  {
   "cell_type": "code",
   "execution_count": null,
   "metadata": {},
   "outputs": [],
   "source": [
    "\n",
    "# pseudocode\n",
    "# will need to go through each language one by one since user agent only searches one language's wikipedia\n",
    "class Language(Enum):\n",
    "    ar = arabic\n",
    "    nb = bengali\n",
    "    fi = finnish\n",
    "    id = indonesian\n",
    "    ja = japanese\n",
    "    sw = swahili\n",
    "    ko = korean\n",
    "    ru = russian\n",
    "    te = telugu\n",
    "    th = thai\n",
    "\n",
    "for lang in (Language):\n",
    "    for idx, row in tydi_json.iterrows():\n",
    "        \n",
    "\n",
    "\"\"\"\n",
    "for l in languages:\n",
    "    for row in tydi_json if row[language] = l # surely there is a better way to do this?\n",
    "        use title to get page metadata\n",
    "        search langlinks\n",
    "            record if english is not available and question has answer in text\n",
    "\n",
    "\"\"\"\n"
   ]
  }
 ],
 "metadata": {
  "kernelspec": {
   "display_name": "vectorEnv",
   "language": "python",
   "name": "python3"
  },
  "language_info": {
   "codemirror_mode": {
    "name": "ipython",
    "version": 3
   },
   "file_extension": ".py",
   "mimetype": "text/x-python",
   "name": "python",
   "nbconvert_exporter": "python",
   "pygments_lexer": "ipython3",
   "version": "3.11.10"
  }
 },
 "nbformat": 4,
 "nbformat_minor": 2
}
