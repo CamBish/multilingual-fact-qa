{
 "cells": [
  {
   "cell_type": "markdown",
   "id": "turned-asian",
   "metadata": {},
   "source": [
    "# Chinese NER Test Pipeline \n",
    "## By: Cameron B.\n",
    "\n",
    "### Download model from ModelScope"
   ]
  },
  {
   "cell_type": "code",
   "execution_count": 1,
   "id": "dominant-nancy",
   "metadata": {},
   "outputs": [
    {
     "name": "stderr",
     "output_type": "stream",
     "text": [
      "2024-10-16 10:32:54,385 - modelscope - WARNING - Model revision not specified, use revision: v1.0.0\n"
     ]
    }
   ],
   "source": [
    "from modelscope.hub.snapshot_download import snapshot_download\n",
    "\n",
    "# load model (only done first time)\n",
    "model_dir = snapshot_download('iic/nlp_raner_named-entity-recognition_chinese-base-generic', cache_dir='/scratch/ssd004/scratch/cambish/CNER')"
   ]
  },
  {
   "cell_type": "markdown",
   "id": "spare-robert",
   "metadata": {},
   "source": [
    "### Create NER pipeline and load data"
   ]
  },
  {
   "cell_type": "code",
   "execution_count": 2,
   "id": "powerful-pregnancy",
   "metadata": {},
   "outputs": [
    {
     "name": "stderr",
     "output_type": "stream",
     "text": [
      "2024-10-16 10:33:04,253 - modelscope - INFO - initialize model from /scratch/ssd004/scratch/cambish/CNER/iic/nlp_raner_named-entity-recognition_chinese-base-generic\n",
      "2024-10-16 10:33:06,501 - modelscope - INFO - head has no _keys_to_ignore_on_load_missing\n",
      "/h/cambish/.conda/envs/modelscope/lib/python3.9/site-packages/modelscope/utils/checkpoint.py:550: FutureWarning: You are using `torch.load` with `weights_only=False` (the current default value), which uses the default pickle module implicitly. It is possible to construct malicious pickle data which will execute arbitrary code during unpickling (See https://github.com/pytorch/pytorch/blob/main/SECURITY.md#untrusted-models for more details). In a future release, the default value for `weights_only` will be flipped to `True`. This limits the functions that could be executed during unpickling. Arbitrary objects will no longer be allowed to be loaded via this mode unless they are explicitly allowlisted by the user via `torch.serialization.add_safe_globals`. We recommend you start setting `weights_only=True` for any use case where you don't have full control of the loaded file. Please open an issue on GitHub for any issues related to this experimental feature.\n",
      "  state_dict = torch.load(ckpt_file, map_location='cpu')\n",
      "2024-10-16 10:33:08,044 - modelscope - INFO - All model checkpoint weights were used when initializing ModelForTokenClassificationWithCRF.\n",
      "\n",
      "2024-10-16 10:33:08,045 - modelscope - INFO - All the weights of ModelForTokenClassificationWithCRF were initialized from the model checkpoint If your task is similar to the task the model of the checkpoint was trained on, you can already use ModelForTokenClassificationWithCRF for predictions without further training.\n",
      "2024-10-16 10:33:08,060 - modelscope - WARNING - No preprocessor field found in cfg.\n",
      "2024-10-16 10:33:08,062 - modelscope - WARNING - No val key and type key found in preprocessor domain of configuration.json file.\n",
      "2024-10-16 10:33:08,063 - modelscope - WARNING - Cannot find available config to build preprocessor at mode inference, current config: {'model_dir': '/scratch/ssd004/scratch/cambish/CNER/iic/nlp_raner_named-entity-recognition_chinese-base-generic'}. trying to build by task and model information.\n",
      "2024-10-16 10:33:11,432 - modelscope - WARNING - No preprocessor field found in cfg.\n",
      "2024-10-16 10:33:11,434 - modelscope - WARNING - No val key and type key found in preprocessor domain of configuration.json file.\n",
      "2024-10-16 10:33:11,436 - modelscope - WARNING - Cannot find available config to build preprocessor at mode inference, current config: {'model_dir': '/scratch/ssd004/scratch/cambish/CNER/iic/nlp_raner_named-entity-recognition_chinese-base-generic', 'sequence_length': 512}. trying to build by task and model information.\n",
      "2024-10-16 10:33:11,450 - modelscope - WARNING - No preprocessor field found in cfg.\n",
      "2024-10-16 10:33:11,451 - modelscope - WARNING - No val key and type key found in preprocessor domain of configuration.json file.\n",
      "2024-10-16 10:33:11,452 - modelscope - WARNING - Cannot find available config to build preprocessor at mode inference, current config: {'model_dir': '/scratch/ssd004/scratch/cambish/CNER/iic/nlp_raner_named-entity-recognition_chinese-base-generic', 'sequence_length': 512}. trying to build by task and model information.\n",
      "/h/cambish/.conda/envs/modelscope/lib/python3.9/site-packages/transformers/modeling_utils.py:1141: FutureWarning: The `device` argument is deprecated and will be removed in v5 of Transformers.\n",
      "  warnings.warn(\n"
     ]
    },
    {
     "name": "stdout",
     "output_type": "stream",
     "text": [
      "[{'output': [{'type': 'PER', 'start': np.int64(0), 'end': np.int64(3), 'prob': np.float32(0.6087498), 'span': '尼克松'}, {'type': 'GPE', 'start': np.int64(12), 'end': np.int64(13), 'prob': np.float32(0.9466083), 'span': '华'}, {'type': 'PER', 'start': np.int64(30), 'end': np.int64(37), 'prob': np.float32(0.6117986), 'span': '福斯特·杜勒斯'}, {'type': 'GPE', 'start': np.int64(41), 'end': np.int64(43), 'prob': np.float32(0.6031834), 'span': '美国'}, {'type': 'PER', 'start': np.int64(50), 'end': np.int64(51), 'prob': np.float32(0.93963814), 'span': '周'}, {'type': 'PER', 'start': np.int64(52), 'end': np.int64(55), 'prob': np.float32(0.43081495), 'span': '周恩来'}]}, {'output': [{'type': 'PER', 'start': np.int64(0), 'end': np.int64(3), 'prob': np.float32(0.64598316), 'span': '尼克松'}, {'type': 'PER', 'start': np.int64(4), 'end': np.int64(7), 'prob': np.float32(0.32906184), 'span': '周恩来'}, {'type': 'GPE', 'start': np.int64(12), 'end': np.int64(14), 'prob': np.float32(0.58992296), 'span': '美国'}, {'type': 'GPE', 'start': np.int64(21), 'end': np.int64(23), 'prob': np.float32(0.53913224), 'span': '中国'}]}, {'output': [{'type': 'PER', 'start': np.int64(0), 'end': np.int64(3), 'prob': np.float32(0.6675584), 'span': '尼克松'}, {'type': 'PER', 'start': np.int64(6), 'end': np.int64(13), 'prob': np.float32(0.5807448), 'span': '福斯特·杜勒斯'}, {'type': 'GPE', 'start': np.int64(15), 'end': np.int64(16), 'prob': np.float32(0.9671561), 'span': '华'}]}, {'output': [{'type': 'GPE', 'start': np.int64(0), 'end': np.int64(1), 'prob': np.float32(0.95011985), 'span': '中'}, {'type': 'GPE', 'start': np.int64(1), 'end': np.int64(2), 'prob': np.float32(0.9670487), 'span': '美'}]}, {'output': []}]\n"
     ]
    }
   ],
   "source": [
    "from modelscope.pipelines import pipeline\n",
    "from modelscope.utils.constant import Tasks\n",
    "from modelscope.models import Model\n",
    "\n",
    "from datasets import load_dataset\n",
    "\n",
    "# set up tokenization from https://huggingface.co/docs/datasets/en/use_dataset?\n",
    "# model seems to work fine without specifying tokenizer\n",
    "\n",
    "# tokenizer = BertTokenizer.from_pretrained()\n",
    "cfp = load_dataset('/scratch/ssd004/scratch/cambish/cmmlu-v1.0.1/cmmlu.py', \"chinese_foreign_policy\", split=\"dev\")\n",
    "\n",
    "\n",
    "# cner_model = AutoModel.from_pretrained(model_dir,local_files_only=True)\n",
    "\n",
    "\n",
    "ner_model = Model.from_pretrained(model_dir)\n",
    "ner_pipeline = pipeline('named-entity-recognition', model=ner_model)\n",
    "\n",
    "# test sample\n",
    "ner_input = ['尼克松在回顾1972年访华时说：“我知道，1954年在……时福斯特·杜勒斯（当时的美国国务卿）拒绝同周（周恩来）握手，使他身受侮辱。因此我走完梯级时决心伸出我的手，一边向他走去。当我们的手相握的时候，一个时代结束了，另一个时代开始了。”对上述材料理解正确的是',\n",
    "            '尼克松与周恩来握手意味着美国彻底放弃了遏制中国政策', '尼克松否定了福斯特·杜勒斯的对华态度', '中美关系对20世纪70年代的国际关系有重要影响', '省略部分应是万隆会议']\n",
    "outputs = ner_pipeline(ner_input)\n",
    "print(outputs)\n",
    "    "
   ]
  },
  {
   "cell_type": "markdown",
   "id": "96675950",
   "metadata": {},
   "source": [
    "### Visualize Output w/ SpaCy"
   ]
  },
  {
   "cell_type": "code",
   "execution_count": 3,
   "id": "wound-order",
   "metadata": {},
   "outputs": [
    {
     "name": "stderr",
     "output_type": "stream",
     "text": [
      "/h/cambish/.conda/envs/modelscope/lib/python3.9/site-packages/spacy/displacy/__init__.py:213: UserWarning: [W006] No entities to visualize found in Doc object. If this is surprising to you, make sure the Doc was processed using a model that supports named entity recognition, and check the `doc.ents` property manually if necessary.\n",
      "  warnings.warn(Warnings.W006)\n"
     ]
    },
    {
     "data": {
      "text/html": [
       "<span class=\"tex2jax_ignore\"><div class=\"entities\" style=\"line-height: 2.5; direction: ltr\">\n",
       "<mark class=\"entity\" style=\"background: #ddd; padding: 0.45em 0.6em; margin: 0 0.25em; line-height: 1; border-radius: 0.35em;\">\n",
       "    尼克松\n",
       "    <span style=\"font-size: 0.8em; font-weight: bold; line-height: 1; border-radius: 0.35em; vertical-align: middle; margin-left: 0.5rem\">PER</span>\n",
       "</mark>\n",
       "在回顾1972年访\n",
       "<mark class=\"entity\" style=\"background: #feca74; padding: 0.45em 0.6em; margin: 0 0.25em; line-height: 1; border-radius: 0.35em;\">\n",
       "    华\n",
       "    <span style=\"font-size: 0.8em; font-weight: bold; line-height: 1; border-radius: 0.35em; vertical-align: middle; margin-left: 0.5rem\">GPE</span>\n",
       "</mark>\n",
       "时说：“我知道，1954年在……时\n",
       "<mark class=\"entity\" style=\"background: #ddd; padding: 0.45em 0.6em; margin: 0 0.25em; line-height: 1; border-radius: 0.35em;\">\n",
       "    福斯特·杜勒斯\n",
       "    <span style=\"font-size: 0.8em; font-weight: bold; line-height: 1; border-radius: 0.35em; vertical-align: middle; margin-left: 0.5rem\">PER</span>\n",
       "</mark>\n",
       "（当时的\n",
       "<mark class=\"entity\" style=\"background: #feca74; padding: 0.45em 0.6em; margin: 0 0.25em; line-height: 1; border-radius: 0.35em;\">\n",
       "    美国\n",
       "    <span style=\"font-size: 0.8em; font-weight: bold; line-height: 1; border-radius: 0.35em; vertical-align: middle; margin-left: 0.5rem\">GPE</span>\n",
       "</mark>\n",
       "国务卿）拒绝同\n",
       "<mark class=\"entity\" style=\"background: #ddd; padding: 0.45em 0.6em; margin: 0 0.25em; line-height: 1; border-radius: 0.35em;\">\n",
       "    周\n",
       "    <span style=\"font-size: 0.8em; font-weight: bold; line-height: 1; border-radius: 0.35em; vertical-align: middle; margin-left: 0.5rem\">PER</span>\n",
       "</mark>\n",
       "（\n",
       "<mark class=\"entity\" style=\"background: #ddd; padding: 0.45em 0.6em; margin: 0 0.25em; line-height: 1; border-radius: 0.35em;\">\n",
       "    周恩来\n",
       "    <span style=\"font-size: 0.8em; font-weight: bold; line-height: 1; border-radius: 0.35em; vertical-align: middle; margin-left: 0.5rem\">PER</span>\n",
       "</mark>\n",
       "）握手，使他身受侮辱。因此我走完梯级时决心伸出我的手，一边向他走去。当我们的手相握的时候，一个时代结束了，另一个时代开始了。”对上述材料理解正确的是</div>\n",
       "\n",
       "<div class=\"entities\" style=\"line-height: 2.5; direction: ltr\">\n",
       "<mark class=\"entity\" style=\"background: #ddd; padding: 0.45em 0.6em; margin: 0 0.25em; line-height: 1; border-radius: 0.35em;\">\n",
       "    尼克松\n",
       "    <span style=\"font-size: 0.8em; font-weight: bold; line-height: 1; border-radius: 0.35em; vertical-align: middle; margin-left: 0.5rem\">PER</span>\n",
       "</mark>\n",
       "与\n",
       "<mark class=\"entity\" style=\"background: #ddd; padding: 0.45em 0.6em; margin: 0 0.25em; line-height: 1; border-radius: 0.35em;\">\n",
       "    周恩来\n",
       "    <span style=\"font-size: 0.8em; font-weight: bold; line-height: 1; border-radius: 0.35em; vertical-align: middle; margin-left: 0.5rem\">PER</span>\n",
       "</mark>\n",
       "握手意味着\n",
       "<mark class=\"entity\" style=\"background: #feca74; padding: 0.45em 0.6em; margin: 0 0.25em; line-height: 1; border-radius: 0.35em;\">\n",
       "    美国\n",
       "    <span style=\"font-size: 0.8em; font-weight: bold; line-height: 1; border-radius: 0.35em; vertical-align: middle; margin-left: 0.5rem\">GPE</span>\n",
       "</mark>\n",
       "彻底放弃了遏制\n",
       "<mark class=\"entity\" style=\"background: #feca74; padding: 0.45em 0.6em; margin: 0 0.25em; line-height: 1; border-radius: 0.35em;\">\n",
       "    中国\n",
       "    <span style=\"font-size: 0.8em; font-weight: bold; line-height: 1; border-radius: 0.35em; vertical-align: middle; margin-left: 0.5rem\">GPE</span>\n",
       "</mark>\n",
       "政策</div>\n",
       "\n",
       "<div class=\"entities\" style=\"line-height: 2.5; direction: ltr\">\n",
       "<mark class=\"entity\" style=\"background: #ddd; padding: 0.45em 0.6em; margin: 0 0.25em; line-height: 1; border-radius: 0.35em;\">\n",
       "    尼克松\n",
       "    <span style=\"font-size: 0.8em; font-weight: bold; line-height: 1; border-radius: 0.35em; vertical-align: middle; margin-left: 0.5rem\">PER</span>\n",
       "</mark>\n",
       "否定了\n",
       "<mark class=\"entity\" style=\"background: #ddd; padding: 0.45em 0.6em; margin: 0 0.25em; line-height: 1; border-radius: 0.35em;\">\n",
       "    福斯特·杜勒斯\n",
       "    <span style=\"font-size: 0.8em; font-weight: bold; line-height: 1; border-radius: 0.35em; vertical-align: middle; margin-left: 0.5rem\">PER</span>\n",
       "</mark>\n",
       "的对\n",
       "<mark class=\"entity\" style=\"background: #feca74; padding: 0.45em 0.6em; margin: 0 0.25em; line-height: 1; border-radius: 0.35em;\">\n",
       "    华\n",
       "    <span style=\"font-size: 0.8em; font-weight: bold; line-height: 1; border-radius: 0.35em; vertical-align: middle; margin-left: 0.5rem\">GPE</span>\n",
       "</mark>\n",
       "态度</div>\n",
       "\n",
       "<div class=\"entities\" style=\"line-height: 2.5; direction: ltr\">\n",
       "<mark class=\"entity\" style=\"background: #feca74; padding: 0.45em 0.6em; margin: 0 0.25em; line-height: 1; border-radius: 0.35em;\">\n",
       "    中\n",
       "    <span style=\"font-size: 0.8em; font-weight: bold; line-height: 1; border-radius: 0.35em; vertical-align: middle; margin-left: 0.5rem\">GPE</span>\n",
       "</mark>\n",
       "\n",
       "<mark class=\"entity\" style=\"background: #feca74; padding: 0.45em 0.6em; margin: 0 0.25em; line-height: 1; border-radius: 0.35em;\">\n",
       "    美\n",
       "    <span style=\"font-size: 0.8em; font-weight: bold; line-height: 1; border-radius: 0.35em; vertical-align: middle; margin-left: 0.5rem\">GPE</span>\n",
       "</mark>\n",
       "关系对20世纪70年代的国际关系有重要影响</div>\n",
       "\n",
       "<div class=\"entities\" style=\"line-height: 2.5; direction: ltr\">省略部分应是万隆会议</div></span>"
      ],
      "text/plain": [
       "<IPython.core.display.HTML object>"
      ]
     },
     "metadata": {},
     "output_type": "display_data"
    }
   ],
   "source": [
    "import spacy\n",
    "from spacy.tokens import DocBin\n",
    "from spacy import displacy\n",
    "\n",
    "def visualize_ner(ner_input, ner_output):\n",
    "    nlp = spacy.blank(\"zh\")\n",
    "    # store annotations for rendering\n",
    "    docs = []\n",
    "    for text, annotations in zip(ner_input, ner_output):\n",
    "        doc = nlp(text)\n",
    "        ents = []\n",
    "        # required to convert annotations dict of lists into annotation dict\n",
    "        for annotation in annotations['output']:\n",
    "            span = doc.char_span(annotation['start'], annotation['end'], label=annotation['type'])\n",
    "            ents.append(span)\n",
    "        doc.ents = ents\n",
    "        docs.append(doc)\n",
    "\n",
    "    displacy.render(docs, style=\"ent\")\n",
    "\n",
    "visualize_ner(ner_input, outputs)"
   ]
  },
  {
   "cell_type": "code",
   "execution_count": 23,
   "id": "japanese-warrant",
   "metadata": {},
   "outputs": [
    {
     "name": "stdout",
     "output_type": "stream",
     "text": [
      "Questions:\n"
     ]
    },
    {
     "data": {
      "text/html": [
       "<span class=\"tex2jax_ignore\"><div class=\"entities\" style=\"line-height: 2.5; direction: ltr\">20世纪70年代以来，\n",
       "<mark class=\"entity\" style=\"background: #feca74; padding: 0.45em 0.6em; margin: 0 0.25em; line-height: 1; border-radius: 0.35em;\">\n",
       "    中国\n",
       "    <span style=\"font-size: 0.8em; font-weight: bold; line-height: 1; border-radius: 0.35em; vertical-align: middle; margin-left: 0.5rem\">GPE</span>\n",
       "</mark>\n",
       "积极融入世界，下列事件发生的先后顺序是：a恢复\n",
       "<mark class=\"entity\" style=\"background: #7aecec; padding: 0.45em 0.6em; margin: 0 0.25em; line-height: 1; border-radius: 0.35em;\">\n",
       "    联合国\n",
       "    <span style=\"font-size: 0.8em; font-weight: bold; line-height: 1; border-radius: 0.35em; vertical-align: middle; margin-left: 0.5rem\">ORG</span>\n",
       "</mark>\n",
       "的合法席位；b\n",
       "<mark class=\"entity\" style=\"background: #ddd; padding: 0.45em 0.6em; margin: 0 0.25em; line-height: 1; border-radius: 0.35em;\">\n",
       "    尼克松\n",
       "    <span style=\"font-size: 0.8em; font-weight: bold; line-height: 1; border-radius: 0.35em; vertical-align: middle; margin-left: 0.5rem\">PER</span>\n",
       "</mark>\n",
       "访\n",
       "<mark class=\"entity\" style=\"background: #feca74; padding: 0.45em 0.6em; margin: 0 0.25em; line-height: 1; border-radius: 0.35em;\">\n",
       "    华\n",
       "    <span style=\"font-size: 0.8em; font-weight: bold; line-height: 1; border-radius: 0.35em; vertical-align: middle; margin-left: 0.5rem\">GPE</span>\n",
       "</mark>\n",
       "；c乒乓外交；d\n",
       "<mark class=\"entity\" style=\"background: #feca74; padding: 0.45em 0.6em; margin: 0 0.25em; line-height: 1; border-radius: 0.35em;\">\n",
       "    中\n",
       "    <span style=\"font-size: 0.8em; font-weight: bold; line-height: 1; border-radius: 0.35em; vertical-align: middle; margin-left: 0.5rem\">GPE</span>\n",
       "</mark>\n",
       "\n",
       "<mark class=\"entity\" style=\"background: #feca74; padding: 0.45em 0.6em; margin: 0 0.25em; line-height: 1; border-radius: 0.35em;\">\n",
       "    美\n",
       "    <span style=\"font-size: 0.8em; font-weight: bold; line-height: 1; border-radius: 0.35em; vertical-align: middle; margin-left: 0.5rem\">GPE</span>\n",
       "</mark>\n",
       "建交；e\n",
       "<mark class=\"entity\" style=\"background: #feca74; padding: 0.45em 0.6em; margin: 0 0.25em; line-height: 1; border-radius: 0.35em;\">\n",
       "    中\n",
       "    <span style=\"font-size: 0.8em; font-weight: bold; line-height: 1; border-radius: 0.35em; vertical-align: middle; margin-left: 0.5rem\">GPE</span>\n",
       "</mark>\n",
       "\n",
       "<mark class=\"entity\" style=\"background: #feca74; padding: 0.45em 0.6em; margin: 0 0.25em; line-height: 1; border-radius: 0.35em;\">\n",
       "    日\n",
       "    <span style=\"font-size: 0.8em; font-weight: bold; line-height: 1; border-radius: 0.35em; vertical-align: middle; margin-left: 0.5rem\">GPE</span>\n",
       "</mark>\n",
       "签署外交关系的联合声明</div>\n",
       "\n",
       "<div class=\"entities\" style=\"line-height: 2.5; direction: ltr\">亚非会议能取得成功的根本原因是</div>\n",
       "\n",
       "<div class=\"entities\" style=\"line-height: 2.5; direction: ltr\">以下哪个是是国家关系发展的必然结果和客观趋势?</div>\n",
       "\n",
       "<div class=\"entities\" style=\"line-height: 2.5; direction: ltr\">我国新时期的外交方针与政策有：a不结盟政策；b与周边国家建立友好关系；c一边倒与一大片；d对外开放</div>\n",
       "\n",
       "<div class=\"entities\" style=\"line-height: 2.5; direction: ltr\">1948年底到1949年初，\n",
       "<mark class=\"entity\" style=\"background: #7aecec; padding: 0.45em 0.6em; margin: 0 0.25em; line-height: 1; border-radius: 0.35em;\">\n",
       "    中共\n",
       "    <span style=\"font-size: 0.8em; font-weight: bold; line-height: 1; border-radius: 0.35em; vertical-align: middle; margin-left: 0.5rem\">ORG</span>\n",
       "</mark>\n",
       "中央确定了一个重要的外交方针，将承认问题由新政权的单向“被承认”变成与外国政府之间的双向相互承认。\n",
       "<mark class=\"entity\" style=\"background: #ddd; padding: 0.45em 0.6em; margin: 0 0.25em; line-height: 1; border-radius: 0.35em;\">\n",
       "    毛泽东\n",
       "    <span style=\"font-size: 0.8em; font-weight: bold; line-height: 1; border-radius: 0.35em; vertical-align: middle; margin-left: 0.5rem\">PER</span>\n",
       "</mark>\n",
       "把这一外交方针概括为</div></span>"
      ],
      "text/plain": [
       "<IPython.core.display.HTML object>"
      ]
     },
     "metadata": {},
     "output_type": "display_data"
    },
    {
     "name": "stdout",
     "output_type": "stream",
     "text": [
      "Answers:\n"
     ]
    },
    {
     "data": {
      "text/html": [
       "<span class=\"tex2jax_ignore\"><div class=\"entities\" style=\"line-height: 2.5; direction: ltr\">cabed</div>\n",
       "\n",
       "<div class=\"entities\" style=\"line-height: 2.5; direction: ltr\">亚非各国有团结反帝反殖的共同愿望</div>\n",
       "\n",
       "<div class=\"entities\" style=\"line-height: 2.5; direction: ltr\">世界格局多极化</div>\n",
       "\n",
       "<div class=\"entities\" style=\"line-height: 2.5; direction: ltr\">abd</div>\n",
       "\n",
       "<div class=\"entities\" style=\"line-height: 2.5; direction: ltr\">“另起炉灶”</div></span>"
      ],
      "text/plain": [
       "<IPython.core.display.HTML object>"
      ]
     },
     "metadata": {},
     "output_type": "display_data"
    },
    {
     "name": "stdout",
     "output_type": "stream",
     "text": [
      "[]\n"
     ]
    }
   ],
   "source": [
    "\n",
    "questions = [qa[\"Question\"] for qa in cfp]\n",
    "ner_questions = [ner_pipeline(q) for q in questions]\n",
    "answers = [qa[qa[\"Answer\"]] for qa in cfp]\n",
    "ner_answers = [ner_pipeline(a) for a in answers]\n",
    "\n",
    "print(\"Questions:\")\n",
    "visualize_ner(questions, ner_questions)\n",
    "print(\"Answers:\")\n",
    "visualize_ner(answers, ner_answers)\n",
    "\n",
    "def filter_qa_pairs(dataset):\n",
    "    questions = [qa[\"Question\"] for qa in dataset]\n",
    "    ner_questions = [ner_pipeline(q)[\"output\"] for q in questions]\n",
    "    answers = [qa[qa[\"Answer\"]] for qa in dataset]\n",
    "    ner_answers = [ner_pipeline(a)[\"output\"] for a in answers]\n",
    "        \n",
    "    # find better way to do this\n",
    "    dataset = dataset.add_column(\"q_ner\", ner_questions)\n",
    "    dataset = dataset.add_column(\"a_ner\", ner_answers)    \n",
    "    \n",
    "    return [qa for qa in dataset if qa[\"q_ner\"] and qa[\"a_ner\"]]\n",
    "\n",
    "filtered_questions = filter_qa_pairs(cfp)\n",
    "print(filtered_questions)\n"
   ]
  },
  {
   "cell_type": "code",
   "execution_count": null,
   "id": "pretty-bacteria",
   "metadata": {},
   "outputs": [],
   "source": []
  }
 ],
 "metadata": {
  "kernelspec": {
   "display_name": "Python - modelscope (3.8)",
   "language": "python",
   "name": "modelscope"
  },
  "language_info": {
   "codemirror_mode": {
    "name": "ipython",
    "version": 3
   },
   "file_extension": ".py",
   "mimetype": "text/x-python",
   "name": "python",
   "nbconvert_exporter": "python",
   "pygments_lexer": "ipython3",
   "version": "3.9.20"
  }
 },
 "nbformat": 4,
 "nbformat_minor": 5
}
